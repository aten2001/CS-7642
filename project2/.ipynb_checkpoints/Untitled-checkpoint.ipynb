{
 "cells": [
  {
   "cell_type": "code",
   "execution_count": 1,
   "metadata": {},
   "outputs": [],
   "source": [
    "import itertools\n",
    "import logging\n",
    "import os\n",
    "import glob\n",
    "import re\n",
    "\n",
    "from collections import defaultdict\n",
    "from functools import reduce\n",
    "from pprint import pprint, pformat\n",
    "from os.path import basename\n",
    "\n",
    "import numpy as np\n",
    "import pandas as pd\n",
    "import matplotlib.pyplot as plt\n"
   ]
  },
  {
   "cell_type": "code",
   "execution_count": 2,
   "metadata": {},
   "outputs": [],
   "source": [
    "input_path = 'output/'\n",
    "output_path = 'output/images/'\n",
    "to_process = {\n",
    "    'FLIPFLOP': {\n",
    "        'path': 'FLIPFLOP_OLD',\n",
    "        'nn_curve': False,\n",
    "        'multiple_trials': True\n",
    "    },\n",
    "    'TSP': {\n",
    "        'path': 'TSP_OLD',\n",
    "        'nn_curve': False,\n",
    "        'multiple_trials': True\n",
    "    },\n",
    "    'CONTPEAKS': {\n",
    "        'path': 'CONTPEAKS_OLD',\n",
    "        'nn_curve': False,\n",
    "        'multiple_trials': True\n",
    "    },\n",
    "    'NN': {\n",
    "        'path': 'NN_OUTPUT',\n",
    "        'nn_curve': True,\n",
    "        'multiple_trials': False\n",
    "    }\n",
    "}\n"
   ]
  },
  {
   "cell_type": "code",
   "execution_count": null,
   "metadata": {},
   "outputs": [],
   "source": []
  }
 ],
 "metadata": {
  "kernelspec": {
   "display_name": "Python 3",
   "language": "python",
   "name": "python3"
  },
  "language_info": {
   "codemirror_mode": {
    "name": "ipython",
    "version": 3
   },
   "file_extension": ".py",
   "mimetype": "text/x-python",
   "name": "python",
   "nbconvert_exporter": "python",
   "pygments_lexer": "ipython3",
   "version": "3.6.8"
  }
 },
 "nbformat": 4,
 "nbformat_minor": 2
}
